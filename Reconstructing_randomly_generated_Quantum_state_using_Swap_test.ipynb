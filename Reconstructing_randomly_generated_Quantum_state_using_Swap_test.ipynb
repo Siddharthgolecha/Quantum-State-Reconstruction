{
  "nbformat": 4,
  "nbformat_minor": 0,
  "metadata": {
    "colab": {
      "name": "Reconstructing randomly generated Quantum state using Swap test.ipynb",
      "provenance": [],
      "collapsed_sections": [],
      "authorship_tag": "ABX9TyMeHl9n/j7HRiewqnUjxLli",
      "include_colab_link": true
    },
    "kernelspec": {
      "name": "python3",
      "display_name": "Python 3"
    }
  },
  "cells": [
    {
      "cell_type": "markdown",
      "metadata": {
        "id": "view-in-github",
        "colab_type": "text"
      },
      "source": [
        "<a href=\"https://colab.research.google.com/github/Siddharthgolecha/Quantum-State-Reconstruction/blob/main/Reconstructing_randomly_generated_Quantum_state_using_Swap_test.ipynb\" target=\"_parent\"><img src=\"https://colab.research.google.com/assets/colab-badge.svg\" alt=\"Open In Colab\"/></a>"
      ]
    },
    {
      "cell_type": "code",
      "metadata": {
        "colab": {
          "base_uri": "https://localhost:8080/",
          "height": 1000
        },
        "id": "HVyIDIE8at6L",
        "outputId": "b73edc7d-b8e7-4bb9-c6d9-960b1e34de16"
      },
      "source": [
        "#Run this cell only if the following libraries are either not present\n",
        "#or not latest\n",
        "!pip install --upgrade qiskit\n",
        "!pip install --upgrade numpy\n",
        "!pip install --upgrade scipy\n",
        "!pip install --upgrade matplotlib"
      ],
      "execution_count": 1,
      "outputs": [
        {
          "output_type": "stream",
          "text": [
            "Collecting qiskit\n",
            "  Downloading https://files.pythonhosted.org/packages/df/02/16212b2c01f2652c094bb865f2786d4e7a6206472898ee12137d98a85aca/qiskit-0.23.5.tar.gz\n",
            "Collecting qiskit-terra==0.16.4\n",
            "\u001b[?25l  Downloading https://files.pythonhosted.org/packages/56/e2/c256863ec8fab2162bf17d7e9c8564186a4636b4f24b5ea5d38a014b809e/qiskit_terra-0.16.4-cp36-cp36m-manylinux2010_x86_64.whl (8.5MB)\n",
            "\u001b[K     |████████████████████████████████| 8.5MB 8.0MB/s \n",
            "\u001b[?25hCollecting qiskit-aer==0.7.4\n",
            "\u001b[?25l  Downloading https://files.pythonhosted.org/packages/c0/e0/9b28d7bd52cb6b2bc16b8e98b97e96dc7d22f5c40f91b529487b31526c8c/qiskit_aer-0.7.4-cp36-cp36m-manylinux2010_x86_64.whl (17.6MB)\n",
            "\u001b[K     |████████████████████████████████| 17.6MB 245kB/s \n",
            "\u001b[?25hCollecting qiskit-ibmq-provider==0.11.1\n",
            "\u001b[?25l  Downloading https://files.pythonhosted.org/packages/32/b9/f99bec4fdc4dec234d8a85a8da378750441a203c614be35353f5e8738316/qiskit_ibmq_provider-0.11.1-py3-none-any.whl (195kB)\n",
            "\u001b[K     |████████████████████████████████| 204kB 45.1MB/s \n",
            "\u001b[?25hCollecting qiskit-ignis==0.5.2\n",
            "\u001b[?25l  Downloading https://files.pythonhosted.org/packages/b2/1d/d5df8cf48cf20a26deb6e0535f020cd2ad625cb27457abb0ab39c2104e38/qiskit_ignis-0.5.2-py3-none-any.whl (203kB)\n",
            "\u001b[K     |████████████████████████████████| 204kB 50.5MB/s \n",
            "\u001b[?25hCollecting qiskit-aqua==0.8.2\n",
            "\u001b[?25l  Downloading https://files.pythonhosted.org/packages/0e/82/528741676960a7fd1c75151639601826118f2729ad53034fa3b39290c056/qiskit_aqua-0.8.2-py3-none-any.whl (2.1MB)\n",
            "\u001b[K     |████████████████████████████████| 2.1MB 46.3MB/s \n",
            "\u001b[?25hCollecting ply>=3.10\n",
            "\u001b[?25l  Downloading https://files.pythonhosted.org/packages/a3/58/35da89ee790598a0700ea49b2a66594140f44dec458c07e8e3d4979137fc/ply-3.11-py2.py3-none-any.whl (49kB)\n",
            "\u001b[K     |████████████████████████████████| 51kB 4.6MB/s \n",
            "\u001b[?25hCollecting sympy>=1.3\n",
            "\u001b[?25l  Downloading https://files.pythonhosted.org/packages/ff/69/b16fc81b939d3efdd0b552f2e3e54f7fa1423d0c320cced2e69e675dde26/sympy-1.7.1-py3-none-any.whl (5.9MB)\n",
            "\u001b[K     |████████████████████████████████| 5.9MB 30.2MB/s \n",
            "\u001b[?25hRequirement already satisfied, skipping upgrade: python-dateutil>=2.8.0 in /usr/local/lib/python3.6/dist-packages (from qiskit-terra==0.16.4->qiskit) (2.8.1)\n",
            "Requirement already satisfied, skipping upgrade: psutil>=5 in /usr/local/lib/python3.6/dist-packages (from qiskit-terra==0.16.4->qiskit) (5.4.8)\n",
            "Collecting retworkx>=0.5.0\n",
            "\u001b[?25l  Downloading https://files.pythonhosted.org/packages/b7/21/5d4498cedb23927a31173176975e2162e0d6a2b80846ef254dd5500e10da/retworkx-0.7.2-cp36-cp36m-manylinux2010_x86_64.whl (1.3MB)\n",
            "\u001b[K     |████████████████████████████████| 1.3MB 36.8MB/s \n",
            "\u001b[?25hRequirement already satisfied, skipping upgrade: scipy>=1.4 in /usr/local/lib/python3.6/dist-packages (from qiskit-terra==0.16.4->qiskit) (1.4.1)\n",
            "Requirement already satisfied, skipping upgrade: networkx>=2.2 in /usr/local/lib/python3.6/dist-packages (from qiskit-terra==0.16.4->qiskit) (2.5)\n",
            "Collecting python-constraint>=1.4\n",
            "  Downloading https://files.pythonhosted.org/packages/37/8b/5f1bc2734ca611943e1d6733ee244238679f6410a10cd45ede55a61a8402/python-constraint-1.4.0.tar.bz2\n",
            "Collecting contextvars>=2.4; python_version < \"3.7\"\n",
            "  Downloading https://files.pythonhosted.org/packages/83/96/55b82d9f13763be9d672622e1b8106c85acb83edd7cc2fa5bc67cd9877e9/contextvars-2.4.tar.gz\n",
            "Requirement already satisfied, skipping upgrade: dill>=0.3 in /usr/local/lib/python3.6/dist-packages (from qiskit-terra==0.16.4->qiskit) (0.3.3)\n",
            "Requirement already satisfied, skipping upgrade: numpy>=1.17 in /usr/local/lib/python3.6/dist-packages (from qiskit-terra==0.16.4->qiskit) (1.19.5)\n",
            "Requirement already satisfied, skipping upgrade: jsonschema>=2.6 in /usr/local/lib/python3.6/dist-packages (from qiskit-terra==0.16.4->qiskit) (2.6.0)\n",
            "Collecting fastjsonschema>=2.10\n",
            "  Downloading https://files.pythonhosted.org/packages/89/1c/8be51fa42aadc1c1611a52b866e1a5a1032a504f24789cf140b4e6d7c940/fastjsonschema-2.15.0-py3-none-any.whl\n",
            "Collecting pybind11>=2.4\n",
            "\u001b[?25l  Downloading https://files.pythonhosted.org/packages/8d/43/7339dbabbc2793718d59703aace4166f53c29ee1c202f6ff5bf8a26c4d91/pybind11-2.6.2-py2.py3-none-any.whl (191kB)\n",
            "\u001b[K     |████████████████████████████████| 194kB 38.4MB/s \n",
            "\u001b[?25hRequirement already satisfied, skipping upgrade: cython>=0.27.1 in /usr/local/lib/python3.6/dist-packages (from qiskit-aer==0.7.4->qiskit) (0.29.21)\n",
            "Collecting websockets>=8\n",
            "\u001b[?25l  Downloading https://files.pythonhosted.org/packages/bb/d9/856af84843912e2853b1b6e898ac8b802989fcf9ecf8e8445a1da263bf3b/websockets-8.1-cp36-cp36m-manylinux2010_x86_64.whl (78kB)\n",
            "\u001b[K     |████████████████████████████████| 81kB 9.2MB/s \n",
            "\u001b[?25hRequirement already satisfied, skipping upgrade: urllib3>=1.21.1 in /usr/local/lib/python3.6/dist-packages (from qiskit-ibmq-provider==0.11.1->qiskit) (1.24.3)\n",
            "Collecting requests-ntlm>=1.1.0\n",
            "  Downloading https://files.pythonhosted.org/packages/03/4b/8b9a1afde8072c4d5710d9fa91433d504325821b038e00237dc8d6d833dc/requests_ntlm-1.1.0-py2.py3-none-any.whl\n",
            "Requirement already satisfied, skipping upgrade: nest-asyncio!=1.1.0,>=1.0.0 in /usr/local/lib/python3.6/dist-packages (from qiskit-ibmq-provider==0.11.1->qiskit) (1.5.1)\n",
            "Requirement already satisfied, skipping upgrade: requests>=2.19 in /usr/local/lib/python3.6/dist-packages (from qiskit-ibmq-provider==0.11.1->qiskit) (2.23.0)\n",
            "Requirement already satisfied, skipping upgrade: scikit-learn>=0.17 in /usr/local/lib/python3.6/dist-packages (from qiskit-ignis==0.5.2->qiskit) (0.22.2.post1)\n",
            "Requirement already satisfied, skipping upgrade: setuptools>=40.1.0 in /usr/local/lib/python3.6/dist-packages (from qiskit-ignis==0.5.2->qiskit) (53.0.0)\n",
            "Requirement already satisfied, skipping upgrade: pandas in /usr/local/lib/python3.6/dist-packages (from qiskit-aqua==0.8.2->qiskit) (1.1.5)\n",
            "Requirement already satisfied, skipping upgrade: fastdtw in /usr/local/lib/python3.6/dist-packages (from qiskit-aqua==0.8.2->qiskit) (0.3.4)\n",
            "Requirement already satisfied, skipping upgrade: dataclasses; python_version < \"3.7\" in /usr/local/lib/python3.6/dist-packages (from qiskit-aqua==0.8.2->qiskit) (0.8)\n",
            "Collecting dlx\n",
            "  Downloading https://files.pythonhosted.org/packages/54/c0/b8fb5bb727e983b6f5251433ef941b48f38c65bb0bd6ec509e9185bcd406/dlx-1.0.4.tar.gz\n",
            "Collecting quandl\n",
            "  Downloading https://files.pythonhosted.org/packages/c2/58/9f0e69d836045e3865d263e9ed49f42b23a58526fdabb30f74c430baee3f/Quandl-3.6.0-py2.py3-none-any.whl\n",
            "Requirement already satisfied, skipping upgrade: h5py in /usr/local/lib/python3.6/dist-packages (from qiskit-aqua==0.8.2->qiskit) (2.10.0)\n",
            "Collecting yfinance\n",
            "  Downloading https://files.pythonhosted.org/packages/7a/e8/b9d7104d3a4bf39924799067592d9e59119fcfc900a425a12e80a3123ec8/yfinance-0.1.55.tar.gz\n",
            "Collecting docplex==2.15.194\n",
            "\u001b[?25l  Downloading https://files.pythonhosted.org/packages/9b/76/ebf5b75a25c4357c9a4758cae7fea778dd7f282b83c2f22e150dc7e3c852/docplex-2.15.194.tar.gz (582kB)\n",
            "\u001b[K     |████████████████████████████████| 583kB 45.2MB/s \n",
            "\u001b[?25hRequirement already satisfied, skipping upgrade: mpmath>=0.19 in /usr/local/lib/python3.6/dist-packages (from sympy>=1.3->qiskit-terra==0.16.4->qiskit) (1.1.0)\n",
            "Requirement already satisfied, skipping upgrade: six>=1.5 in /usr/local/lib/python3.6/dist-packages (from python-dateutil>=2.8.0->qiskit-terra==0.16.4->qiskit) (1.15.0)\n",
            "Requirement already satisfied, skipping upgrade: decorator>=4.3.0 in /usr/local/lib/python3.6/dist-packages (from networkx>=2.2->qiskit-terra==0.16.4->qiskit) (4.4.2)\n",
            "Collecting immutables>=0.9\n",
            "\u001b[?25l  Downloading https://files.pythonhosted.org/packages/4a/52/e64a14a99c509cbdfe0405e9f076aef0331cb9548a3efa1d5bacd524978a/immutables-0.15-cp36-cp36m-manylinux1_x86_64.whl (100kB)\n",
            "\u001b[K     |████████████████████████████████| 102kB 9.8MB/s \n",
            "\u001b[?25hCollecting ntlm-auth>=1.0.2\n",
            "  Downloading https://files.pythonhosted.org/packages/ff/84/97c550164b54942b0e908c31ef09d9469f3ba4cd7332a671e2125732f63b/ntlm_auth-1.5.0-py2.py3-none-any.whl\n",
            "Collecting cryptography>=1.3\n",
            "\u001b[?25l  Downloading https://files.pythonhosted.org/packages/2f/61/6f4765822d1f3878c913755bd99212f1ab0b9fa808fc2197ace0790f4cdb/cryptography-3.4.5-cp36-abi3-manylinux2014_x86_64.whl (3.2MB)\n",
            "\u001b[K     |████████████████████████████████| 3.2MB 51.1MB/s \n",
            "\u001b[?25hRequirement already satisfied, skipping upgrade: idna<3,>=2.5 in /usr/local/lib/python3.6/dist-packages (from requests>=2.19->qiskit-ibmq-provider==0.11.1->qiskit) (2.10)\n",
            "Requirement already satisfied, skipping upgrade: certifi>=2017.4.17 in /usr/local/lib/python3.6/dist-packages (from requests>=2.19->qiskit-ibmq-provider==0.11.1->qiskit) (2020.12.5)\n",
            "Requirement already satisfied, skipping upgrade: chardet<4,>=3.0.2 in /usr/local/lib/python3.6/dist-packages (from requests>=2.19->qiskit-ibmq-provider==0.11.1->qiskit) (3.0.4)\n",
            "Requirement already satisfied, skipping upgrade: joblib>=0.11 in /usr/local/lib/python3.6/dist-packages (from scikit-learn>=0.17->qiskit-ignis==0.5.2->qiskit) (1.0.0)\n",
            "Requirement already satisfied, skipping upgrade: pytz>=2017.2 in /usr/local/lib/python3.6/dist-packages (from pandas->qiskit-aqua==0.8.2->qiskit) (2018.9)\n",
            "Collecting inflection>=0.3.1\n",
            "  Downloading https://files.pythonhosted.org/packages/59/91/aa6bde563e0085a02a435aa99b49ef75b0a4b062635e606dab23ce18d720/inflection-0.5.1-py2.py3-none-any.whl\n",
            "Requirement already satisfied, skipping upgrade: more-itertools in /usr/local/lib/python3.6/dist-packages (from quandl->qiskit-aqua==0.8.2->qiskit) (8.7.0)\n",
            "Requirement already satisfied, skipping upgrade: multitasking>=0.0.7 in /usr/local/lib/python3.6/dist-packages (from yfinance->qiskit-aqua==0.8.2->qiskit) (0.0.9)\n",
            "Collecting lxml>=4.5.1\n",
            "\u001b[?25l  Downloading https://files.pythonhosted.org/packages/bd/78/56a7c88a57d0d14945472535d0df9fb4bbad7d34ede658ec7961635c790e/lxml-4.6.2-cp36-cp36m-manylinux1_x86_64.whl (5.5MB)\n",
            "\u001b[K     |████████████████████████████████| 5.5MB 30.7MB/s \n",
            "\u001b[?25hRequirement already satisfied, skipping upgrade: cffi>=1.12 in /usr/local/lib/python3.6/dist-packages (from cryptography>=1.3->requests-ntlm>=1.1.0->qiskit-ibmq-provider==0.11.1->qiskit) (1.14.4)\n",
            "Requirement already satisfied, skipping upgrade: pycparser in /usr/local/lib/python3.6/dist-packages (from cffi>=1.12->cryptography>=1.3->requests-ntlm>=1.1.0->qiskit-ibmq-provider==0.11.1->qiskit) (2.20)\n",
            "Building wheels for collected packages: qiskit, python-constraint, contextvars, dlx, yfinance, docplex\n",
            "  Building wheel for qiskit (setup.py) ... \u001b[?25l\u001b[?25hdone\n",
            "  Created wheel for qiskit: filename=qiskit-0.23.5-cp36-none-any.whl size=2882 sha256=50c4afa9cc6af404a613bd8eeafb6ab817f230aec1327355bdae5681f566d1f1\n",
            "  Stored in directory: /root/.cache/pip/wheels/0a/a7/8f/2720a308d16a991c6eba41517e8764158ea2c7856424112017\n",
            "  Building wheel for python-constraint (setup.py) ... \u001b[?25l\u001b[?25hdone\n",
            "  Created wheel for python-constraint: filename=python_constraint-1.4.0-py2.py3-none-any.whl size=24079 sha256=bb97ad0a03e1e4684ac052d57c0ae690113e624af46c93624681d85cf17d73ac\n",
            "  Stored in directory: /root/.cache/pip/wheels/34/31/15/7b070b25d0a549d20ce2e9fe6d727471c2c61ef904720fd40c\n",
            "  Building wheel for contextvars (setup.py) ... \u001b[?25l\u001b[?25hdone\n",
            "  Created wheel for contextvars: filename=contextvars-2.4-cp36-none-any.whl size=7667 sha256=f2c14af04c54389fb40f6a8b6c6c1f3ec0e11b84f160cda66ed5503604414da6\n",
            "  Stored in directory: /root/.cache/pip/wheels/a5/7d/68/1ebae2668bda2228686e3c1cf16f2c2384cea6e9334ad5f6de\n",
            "  Building wheel for dlx (setup.py) ... \u001b[?25l\u001b[?25hdone\n",
            "  Created wheel for dlx: filename=dlx-1.0.4-cp36-none-any.whl size=5711 sha256=7cb0b6eadecdf99becc366e5ff43343d68eca3ef84856fe655670627185af0bd\n",
            "  Stored in directory: /root/.cache/pip/wheels/bb/ba/15/fdd0deb104df3254912998150ba9245668db06b00af5912d1a\n",
            "  Building wheel for yfinance (setup.py) ... \u001b[?25l\u001b[?25hdone\n",
            "  Created wheel for yfinance: filename=yfinance-0.1.55-py2.py3-none-any.whl size=22616 sha256=c2d2ef45cc158e1c1625ddd30482107f9431556335dc603ce8947c5ff9a4e1f9\n",
            "  Stored in directory: /root/.cache/pip/wheels/04/98/cc/2702a4242d60bdc14f48b4557c427ded1fe92aedf257d4565c\n",
            "  Building wheel for docplex (setup.py) ... \u001b[?25l\u001b[?25hdone\n",
            "  Created wheel for docplex: filename=docplex-2.15.194-cp36-none-any.whl size=645116 sha256=b88a319798ef3be5f3156b751934be84b7be2a45a0252c2ddcd2153a68a87d02\n",
            "  Stored in directory: /root/.cache/pip/wheels/ce/fa/5d/8f4d5fed1b8edb72e453cb2ac6fb75c6776b49d7174eb70457\n",
            "Successfully built qiskit python-constraint contextvars dlx yfinance docplex\n",
            "Installing collected packages: ply, sympy, retworkx, python-constraint, immutables, contextvars, fastjsonschema, qiskit-terra, pybind11, qiskit-aer, websockets, ntlm-auth, cryptography, requests-ntlm, qiskit-ibmq-provider, qiskit-ignis, dlx, inflection, quandl, lxml, yfinance, docplex, qiskit-aqua, qiskit\n",
            "  Found existing installation: sympy 1.1.1\n",
            "    Uninstalling sympy-1.1.1:\n",
            "      Successfully uninstalled sympy-1.1.1\n",
            "  Found existing installation: lxml 4.2.6\n",
            "    Uninstalling lxml-4.2.6:\n",
            "      Successfully uninstalled lxml-4.2.6\n",
            "Successfully installed contextvars-2.4 cryptography-3.4.5 dlx-1.0.4 docplex-2.15.194 fastjsonschema-2.15.0 immutables-0.15 inflection-0.5.1 lxml-4.6.2 ntlm-auth-1.5.0 ply-3.11 pybind11-2.6.2 python-constraint-1.4.0 qiskit-0.23.5 qiskit-aer-0.7.4 qiskit-aqua-0.8.2 qiskit-ibmq-provider-0.11.1 qiskit-ignis-0.5.2 qiskit-terra-0.16.4 quandl-3.6.0 requests-ntlm-1.1.0 retworkx-0.7.2 sympy-1.7.1 websockets-8.1 yfinance-0.1.55\n",
            "Requirement already up-to-date: numpy in /usr/local/lib/python3.6/dist-packages (1.19.5)\n",
            "Collecting scipy\n",
            "\u001b[?25l  Downloading https://files.pythonhosted.org/packages/c8/89/63171228d5ced148f5ced50305c89e8576ffc695a90b58fe5bb602b910c2/scipy-1.5.4-cp36-cp36m-manylinux1_x86_64.whl (25.9MB)\n",
            "\u001b[K     |████████████████████████████████| 25.9MB 4.7MB/s \n",
            "\u001b[?25hRequirement already satisfied, skipping upgrade: numpy>=1.14.5 in /usr/local/lib/python3.6/dist-packages (from scipy) (1.19.5)\n",
            "\u001b[31mERROR: albumentations 0.1.12 has requirement imgaug<0.2.7,>=0.2.5, but you'll have imgaug 0.2.9 which is incompatible.\u001b[0m\n",
            "Installing collected packages: scipy\n",
            "  Found existing installation: scipy 1.4.1\n",
            "    Uninstalling scipy-1.4.1:\n",
            "      Successfully uninstalled scipy-1.4.1\n",
            "Successfully installed scipy-1.5.4\n",
            "Collecting matplotlib\n",
            "\u001b[?25l  Downloading https://files.pythonhosted.org/packages/09/03/b7b30fa81cb687d1178e085d0f01111ceaea3bf81f9330c937fb6f6c8ca0/matplotlib-3.3.4-cp36-cp36m-manylinux1_x86_64.whl (11.5MB)\n",
            "\u001b[K     |████████████████████████████████| 11.5MB 9.9MB/s \n",
            "\u001b[?25hRequirement already satisfied, skipping upgrade: pyparsing!=2.0.4,!=2.1.2,!=2.1.6,>=2.0.3 in /usr/local/lib/python3.6/dist-packages (from matplotlib) (2.4.7)\n",
            "Requirement already satisfied, skipping upgrade: cycler>=0.10 in /usr/local/lib/python3.6/dist-packages (from matplotlib) (0.10.0)\n",
            "Requirement already satisfied, skipping upgrade: kiwisolver>=1.0.1 in /usr/local/lib/python3.6/dist-packages (from matplotlib) (1.3.1)\n",
            "Requirement already satisfied, skipping upgrade: numpy>=1.15 in /usr/local/lib/python3.6/dist-packages (from matplotlib) (1.19.5)\n",
            "Requirement already satisfied, skipping upgrade: pillow>=6.2.0 in /usr/local/lib/python3.6/dist-packages (from matplotlib) (7.0.0)\n",
            "Requirement already satisfied, skipping upgrade: python-dateutil>=2.1 in /usr/local/lib/python3.6/dist-packages (from matplotlib) (2.8.1)\n",
            "Requirement already satisfied, skipping upgrade: six in /usr/local/lib/python3.6/dist-packages (from cycler>=0.10->matplotlib) (1.15.0)\n",
            "\u001b[31mERROR: albumentations 0.1.12 has requirement imgaug<0.2.7,>=0.2.5, but you'll have imgaug 0.2.9 which is incompatible.\u001b[0m\n",
            "Installing collected packages: matplotlib\n",
            "  Found existing installation: matplotlib 3.2.2\n",
            "    Uninstalling matplotlib-3.2.2:\n",
            "      Successfully uninstalled matplotlib-3.2.2\n",
            "Successfully installed matplotlib-3.3.4\n"
          ],
          "name": "stdout"
        },
        {
          "output_type": "display_data",
          "data": {
            "application/vnd.colab-display-data+json": {
              "pip_warning": {
                "packages": [
                  "matplotlib",
                  "mpl_toolkits"
                ]
              }
            }
          },
          "metadata": {
            "tags": []
          }
        }
      ]
    },
    {
      "cell_type": "code",
      "metadata": {
        "id": "ZClMXV0Rcren"
      },
      "source": [
        "from qiskit import *\n",
        "from qiskit.tools.jupyter import *\n",
        "from qiskit.visualization import *\n",
        "from math import pi\n",
        "from qiskit.visualization import plot_bloch_multivector\n",
        "import numpy as np\n",
        "import matplotlib.pyplot as plt\n",
        "from scipy.optimize import minimize "
      ],
      "execution_count": 1,
      "outputs": []
    },
    {
      "cell_type": "code",
      "metadata": {
        "id": "_SOTqY-15iYl"
      },
      "source": [
        "#The more number of shots will definitely increase accurate proabilities but\n",
        "#also time complexity. So change this value wisely!\n",
        "shots = 2000 "
      ],
      "execution_count": 2,
      "outputs": []
    },
    {
      "cell_type": "markdown",
      "metadata": {
        "id": "LjQdWCMlrp3K"
      },
      "source": [
        "# Reconstructing randomly generated Quantum state using Swap test\n",
        "\n",
        "## Swap test\n",
        "The [Swap test](https://en.wikipedia.org/wiki/Swap_test) is a simple quantum circuit which, given two states, allows to compute how much do they differ from each other.\n",
        "\n",
        "![Swap Test Circuit](https://upload.wikimedia.org/wikipedia/commons/d/d6/Quantum-swap-test-circuit-correct.png)\n",
        "\n",
        "Let's dive a bit into calculations!\n",
        "<br>\n",
        "<br>\n",
        "\n",
        "Consider two states: ![|phi> and |psi>](https://latex.codecogs.com/png.download?%5Clarge%20%7B%5Ccolor%7BGreen%7D%7B%5Cdisplaystyle%20%7C%5Cphi%20%5Crangle%20%7D%20%5C%20and%5C%20%7B%5Cdisplaystyle%20%7C%5Cpsi%20%5Crangle%7D%7D) . The state of the system at the beginning of the protocol is ![|0,phi,psi>](https://latex.codecogs.com/png.download?%5Clarge%20%7B%5Ccolor%7BGreen%7D%7B%5Cdisplaystyle%20%7C0%2C%5Cphi%20%2C%5Cpsi%20%5Crangle%20%7D%7D).\n",
        "\n",
        "After applying the Swap test and before measuring the state of the circuit is\n",
        "\n",
        "![final state formula](https://latex.codecogs.com/png.download?%5Clarge%20%7B%5Ccolor%7BGreen%7D%7B%5Cdisplaystyle%20%7B%5Cfrac%20%7B1%7D%7B2%7D%7D%28%7C0%2C%5Cphi%20%2C%5Cpsi%20%5Crangle%20+%7C1%2C%5Cphi%20%2C%5Cpsi%20%5Crangle%20+%7C0%2C%5Cpsi%20%2C%5Cphi%20%5Crangle%20-%7C1%2C%5Cpsi%20%2C%5Cphi%20%5Crangle%20%29%3D%7B%5Cfrac%20%7B1%7D%7B2%7D%7D%7C0%5Crangle%20%28%7C%5Cphi%20%2C%5Cpsi%20%5Crangle%20+%7C%5Cpsi%20%2C%5Cphi%20%5Crangle%20%29+%7B%5Cfrac%20%7B1%7D%7B2%7D%7D%7C1%5Crangle%20%28%7C%5Cphi%20%2C%5Cpsi%20%5Crangle%20-%7C%5Cpsi%20%2C%5Cphi%20%5Crangle%20%29%7D%7D)\n",
        "\n",
        "The Measurement gate on the first qubit ensures that it's 0 with a probability of\n",
        "![|0> Measurement probability](https://latex.codecogs.com/png.download?%5Clarge%20%7B%5Ccolor%7BGreen%7D%7B%5Cdisplaystyle%20P%28%7B%5Ctext%7BFirst%20qubit%7D%7D%3D0%29%3D%7B%5Cfrac%20%7B1%7D%7B2%7D%7D%7B%5CBig%20%28%7D%5Clangle%20%5Cphi%20%7C%5Clangle%20%5Cpsi%20%7C+%5Clangle%20%5Cpsi%20%7C%5Clangle%20%5Cphi%20%7C%7B%5CBig%20%29%7D%7B%5Cfrac%20%7B1%7D%7B2%7D%7D%7B%5CBig%20%28%7D%7C%5Cphi%20%5Crangle%20%7C%5Cpsi%20%5Crangle%20+%7C%5Cpsi%20%5Crangle%20%7C%5Cphi%20%5Crangle%20%7B%5CBig%20%29%7D%3D%7B%5Cfrac%20%7B1%7D%7B2%7D%7D+%7B%5Cfrac%20%7B1%7D%7B2%7D%7D%7B%7C%5Clangle%20%5Cpsi%20%7C%5Cphi%20%5Crangle%20%7C%7D%5E%7B2%7D%7D%7D)\n",
        "\n",
        "when measured. If  ![|phi> and |psi>](https://latex.codecogs.com/png.download?%5Clarge%20%7B%5Ccolor%7BGreen%7D%7B%5Cdisplaystyle%20%7C%5Cphi%20%5Crangle%20%7D%20%5C%20and%5C%20%7B%5Cdisplaystyle%20%7C%5Cpsi%20%5Crangle%7D%7D)  are orthogonal ![Orthogonal measurement](https://latex.codecogs.com/png.download?%5Clarge%20%7B%5Ccolor%7BGreen%7D%7B%5Cdisplaystyle%20%28%7B%7C%5Clangle%20%5Cpsi%20%7C%5Cphi%20%5Crangle%20%7C%7D%5E%7B2%7D%3D0%29%7D%7D), then the probability that 0 is measured is 0.5. If the states are equal ![Same measurement](https://latex.codecogs.com/png.download?%5Clarge%20%7B%5Ccolor%7BGreen%7D%7B%5Cdisplaystyle%20%28%7B%7C%5Clangle%20%5Cpsi%20%7C%5Cphi%20%5Crangle%20%7C%7D%5E%7B2%7D%3D1%29%7D%7D), then the probability that 0 is measured is 1. "
      ]
    },
    {
      "cell_type": "code",
      "metadata": {
        "id": "qzzf4-Yhcyo3"
      },
      "source": [
        "#Swap Test\n",
        "\n",
        "def swap_test(qc):\n",
        "  '''\n",
        "  Return None\n",
        "\n",
        "  Adds Swap Test to the Quantum Circuit.\n",
        "\n",
        "  Keyword arguments:\n",
        "    qc -> Quantum Circuit provided to add the Swap Test. \n",
        "  '''\n",
        "  qc.initialize([1,0],0)\n",
        "  qc.h(0)\n",
        "  qc.cswap(0,1,2)\n",
        "  qc.h(0)\n",
        "  qc.measure(0,0)"
      ],
      "execution_count": 3,
      "outputs": []
    },
    {
      "cell_type": "code",
      "metadata": {
        "id": "5_ROPEqzNPaz"
      },
      "source": [
        "def generate_state(theta = -1,\n",
        "                   phi = 0,\n",
        "                   lambda_ = np.pi):\n",
        "  '''\n",
        "  Returns an array of parameters to generate a random state with U3 gate\n",
        "\n",
        "  Keyword arguments:\n",
        "    theta = np.pi\n",
        "    phi = 0\n",
        "    lambda_ = np.pi\n",
        "  '''\n",
        "  if theta == -1:\n",
        "    theta = np.random.random()*2*np.pi\n",
        "  return np.array([theta, phi, lambda_])"
      ],
      "execution_count": 27,
      "outputs": []
    },
    {
      "cell_type": "markdown",
      "metadata": {
        "id": "ikhw8USlhZkT"
      },
      "source": [
        "## Parameters needed to be changed\n",
        "\n",
        "![U3 gate](https://latex.codecogs.com/png.download?%5Clarge%20%7B%5Ccolor%7BGreen%7DU3%28%5Ctheta%2C%5Cphi%2C%5Clambda%29%3D%5Cbegin%7Bpmatrix%7D%5Ccos%28%5Cfrac%7B%5Ctheta%7D%7B2%7D%29%20%26%20-e%5E%7Bi%5Clambda%7D%5Csin%28%5Cfrac%7B%5Ctheta%7D%7B2%7D%29%20%5C%5C%20e%5E%7Bi%5Cphi%7D%5Csin%28%5Cfrac%7B%5Ctheta%7D%7B2%7D%29%20%26%20e%5E%7Bi%28%5Cphi+%5Clambda%29%7D%5Ccos%28%5Cfrac%7B%5Ctheta%7D%7B2%7D%29%5Cend%7Bpmatrix%7D%7D)\n",
        "![1](https://latex.codecogs.com/png.download?%5Clarge%20%7B%5Ccolor%7BGreen%7D%20U3%7B%7C%5Cphi%5Crangle%7D%20%3D%20%7B%5Cbegin%7Bpmatrix%7D%5Ccos%28%5Cfrac%7B%5Ctheta_%7B1%7D%7D%7B2%7D%29%20%26%20-e%5E%7Bi%5Clambda_%7B1%7D%7D%5Csin%28%5Cfrac%7B%5Ctheta_%7B1%7D%7D%7B2%7D%29%20%5C%5C%20e%5E%7Bi%5Cphi_%7B1%7D%7D%5Csin%28%5Cfrac%7B%5Ctheta_%7B1%7D%7D%7B2%7D%29%20%26%20e%5E%7Bi%28%5Cphi_%7B1%7D+%5Clambda_%7B1%7D%29%7D%5Ccos%28%5Cfrac%7B%5Ctheta_%7B1%7D%7D%7B2%7D%29%5Cend%7Bpmatrix%7D%20%5Cbegin%7Bpmatrix%7D1%20%5C%5C%200%5Cend%7Bpmatrix%7D%7D%20%5Cbreak%20%3D%20%5Cbegin%7Bpmatrix%7D%5Ccos%28%5Cfrac%7B%5Ctheta_%7B1%7D%7D%7B2%7D%29%20%5C%5C%20e%5E%7Bi%5Cphi_%7B1%7D%7D%5Csin%28%5Cfrac%7B%5Ctheta_%7B1%7D%7D%7B2%7D%29%20%5Cend%7Bpmatrix%7D%20%7D)\n",
        "![2](https://latex.codecogs.com/png.download?%5Clarge%20%7B%5Ccolor%7BGreen%7D%20U3%7B%7C%5Cpsi%5Crangle%7D%20%3D%20%7B%5Cbegin%7Bpmatrix%7D%5Ccos%28%5Cfrac%7B%5Ctheta_%7B2%7D%7D%7B2%7D%29%20%26%20-e%5E%7Bi%5Clambda_%7B2%7D%7D%5Csin%28%5Cfrac%7B%5Ctheta_%7B2%7D%7D%7B2%7D%29%20%5C%5C%20e%5E%7Bi%5Cphi_%7B2%7D%7D%5Csin%28%5Cfrac%7B%5Ctheta_%7B2%7D%7D%7B2%7D%29%20%26%20e%5E%7Bi%28%5Cphi_%7B2%7D+%5Clambda_%7B2%7D%29%7D%5Ccos%28%5Cfrac%7B%5Ctheta_%7B2%7D%7D%7B2%7D%29%5Cend%7Bpmatrix%7D%20%5Cbegin%7Bpmatrix%7D1%20%5C%5C%200%5Cend%7Bpmatrix%7D%7D%20%5Cbreak%20%3D%20%5Cbegin%7Bpmatrix%7D%5Ccos%28%5Cfrac%7B%5Ctheta_%7B2%7D%7D%7B2%7D%29%20%5C%5C%20e%5E%7Bi%5Cphi_%7B1%7D%7D%5Csin%28%5Cfrac%7B%5Ctheta_%7B2%7D%7D%7B2%7D%29%20%5Cend%7Bpmatrix%7D%20%7D)\n",
        "![3](https://latex.codecogs.com/png.download?%5Clarge%20%7B%5Ccolor%7BGreen%7D%20%7B%7C%5Clangle%20%5Cpsi%20%7C%5Cphi%20%5Crangle%20%7C%7D%5E%7B2%7D%20%5C%5C%20%3D%20%7B%5CBig%5Crvert%5Cbegin%7Bpmatrix%7D%5Ccos%28%5Cfrac%7B%5Ctheta_%7B2%7D%7D%7B2%7D%29%20%26%20e%5E%7Bi%5Cphi_%7B2%7D%7D%5Csin%28%5Cfrac%7B%5Ctheta_%7B2%7D%7D%7B2%7D%29%20%5Cend%7Bpmatrix%7D%5Cbegin%7Bpmatrix%7D%5Ccos%28%5Cfrac%7B%5Ctheta_%7B1%7D%7D%7B2%7D%29%20%5C%5C%20e%5E%7Bi%5Cphi_%7B1%7D%7D%5Csin%28%5Cfrac%7B%5Ctheta_%7B1%7D%7D%7B2%7D%29%20%5Cend%7Bpmatrix%7D%5CBig%5Clvert%7D%5E2%20%7D)\n",
        "![4](https://latex.codecogs.com/png.download?%5Clarge%20%7B%5Ccolor%7BGreen%7D%20%7B%7C%5Clangle%20%5Cpsi%20%7C%5Cphi%20%5Crangle%20%7C%7D%5E%7B2%7D%20%5C%5C%20%3D%20%7B%5CBig%5Crvert%5Ccos%28%5Cfrac%7B%5Ctheta_%7B2%7D%7D%7B2%7D%29%5Ccos%28%5Cfrac%7B%5Ctheta_%7B1%7D%7D%7B2%7D%29%20+%20e%5E%7Bi%28%7B%5Cphi_%7B2%7D+%5Cphi_%7B1%7D%7D%29%7D%5Csin%28%5Cfrac%7B%5Ctheta_%7B2%7D%7D%7B2%7D%29%5Csin%28%5Cfrac%7B%5Ctheta_%7B1%7D%7D%7B2%7D%29%5CBig%5Clvert%7D%5E2%20%7D)\n",
        "![5](https://latex.codecogs.com/png.download?%5Clarge%20%7B%5Ccolor%7BGreen%7D%20%7B%7C%5Clangle%20%5Cpsi%20%7C%5Cphi%20%5Crangle%20%7C%7D%5E%7B2%7D%20%5C%5C%20%3D%20%5Ccos%5E2%28%5Cfrac%7B%5Ctheta_%7B2%7D%7D%7B2%7D%29%5Ccos%5E2%28%5Cfrac%7B%5Ctheta_%7B1%7D%7D%7B2%7D%29%20+%20%5Csin%5E2%28%5Cfrac%7B%5Ctheta_%7B2%7D%7D%7B2%7D%29%5Csin%5E2%28%5Cfrac%7B%5Ctheta_%7B1%7D%7D%7B2%7D%29%20%5C%20%5C%20%5C%20%5B%5Crvert%20%7Be%5E%7Bi%28%7B%5Cphi_%7B2%7D+%5Cphi_%7B1%7D%7D%29%7D%5Clvert%20%5E%202%20%3D%201%7D%5D%20%7D)\n",
        "\n",
        "Hence only 1 parameter ![theta](https://latex.codecogs.com/png.download?%5Clarge%20%7B%5Ccolor%7BGreen%7D%20%5Ctheta%20%7D) needs to be changed. So when ![theta1=theta2](https://latex.codecogs.com/png.download?%5Clarge%20%7B%5Ccolor%7BGreen%7D%20%5Ctheta_%7B1%7D%20%3D%20%5Ctheta_%7B2%7D%20%7D)\n",
        "\n",
        "![6](https://latex.codecogs.com/png.download?%5Clarge%20%7B%5Ccolor%7BGreen%7D%20%5Cfrac%7B1%7D%7B2%7D%20+%20%5Cfrac%7B1%7D%7B2%7D%7B%7B%7C%5Clangle%20%5Cpsi%20%7C%5Cphi%20%5Crangle%20%7C%7D%5E%7B2%7D%20%3D%20%5Cfrac%7B1%7D%7B2%7D%20+%20%5Cfrac%7B1%7D%7B2%7D.2%28%5Ccos%5E2%28%5Cfrac%7B%5Ctheta_%7B2%7D%7D%7B2%7D%29%20+%20%5Csin%5E2%28%5Cfrac%7B%5Ctheta_%7B2%7D%7D%7B2%7D%29%29%7D%20%3D%201%20%7D)"
      ]
    },
    {
      "cell_type": "code",
      "metadata": {
        "id": "aOwg79NKXZhD"
      },
      "source": [
        "def swap_error(params1, params2):\n",
        "  '''\n",
        "  Returns the error produced by swap test from 0 to 1.\n",
        "\n",
        "  Maps swap test results of 1/2 to 1 to 1 to 0\n",
        "\n",
        "  Keyword arguments:\n",
        "    params1 -> Parameters for the phi state\n",
        "    params2 -> Parameters for the psi state\n",
        "  '''\n",
        "  qc = QuantumCircuit(3,1)\n",
        "  qc.u(params1[0],params1[1],params1[2],1)\n",
        "  qc.u(params2[0],params2[1],params2[2],2)\n",
        "  swap_test(qc)\n",
        "  \n",
        "  backend = BasicAer.get_backend('qasm_simulator')\n",
        "  results = execute(qc, backend=backend, shots=shots).result()\n",
        "  answer = results.get_counts()\n",
        "\n",
        "  return abs(min((answer['0']/shots)-1,1) * 2)"
      ],
      "execution_count": 5,
      "outputs": []
    },
    {
      "cell_type": "code",
      "metadata": {
        "id": "jXrplk0GeFZ7"
      },
      "source": [
        "def train(params1, params2, epochs=100):\n",
        "  '''\n",
        "  Returns a dictionary with the parameters and histroy of training\n",
        "\n",
        "  Keyword arguments:\n",
        "    params1 -> Parameters for the phi state\n",
        "    params2 -> Parameters for the psi state\n",
        "    epochs = 100 -> Total number of epochs\n",
        "  '''\n",
        "  history = []\n",
        "  pi = np.pi\n",
        "  for epoch in range(epochs):\n",
        "    error = swap_error(params1,params2)\n",
        "    new_state1 = np.array(params1)\n",
        "    new_state1[0] = (float(new_state1[0]) + error*pi)%(2*pi)\n",
        "    error1 = swap_error(new_state1,params2)\n",
        "    new_state2 = np.array(params1)\n",
        "    new_state2[0] = (float(new_state2[0]) - error*pi)%(2*pi)\n",
        "    error2 = swap_error(new_state2,params2)\n",
        "    if error2 > error1:\n",
        "      params1 = new_state1\n",
        "      history.append(error1)\n",
        "    else:\n",
        "      params1 = new_state2\n",
        "      history.append(error2)\n",
        "\n",
        "  return {\"history\": history, \"params\": params1}"
      ],
      "execution_count": 13,
      "outputs": []
    },
    {
      "cell_type": "code",
      "metadata": {
        "colab": {
          "base_uri": "https://localhost:8080/"
        },
        "id": "3J2NCQa_NSdb",
        "outputId": "5d365fe6-87be-4a3d-f8f1-e1400454335b"
      },
      "source": [
        "params1 = generate_state()\n",
        "print(params1)\n",
        "params2 = generate_state()\n",
        "print(params2)"
      ],
      "execution_count": 9,
      "outputs": [
        {
          "output_type": "stream",
          "text": [
            "[4.63793481 0.         3.14159265]\n",
            "[5.43134448 0.         3.14159265]\n"
          ],
          "name": "stdout"
        }
      ]
    },
    {
      "cell_type": "code",
      "metadata": {
        "colab": {
          "base_uri": "https://localhost:8080/"
        },
        "id": "D00NN8exAEHO",
        "outputId": "b171e72b-1b95-4790-c464-20d00e2a58a4"
      },
      "source": [
        "result = train(params1,params2)\n",
        "tparams = result[\"params\"]\n",
        "print(tparams)"
      ],
      "execution_count": 14,
      "outputs": [
        {
          "output_type": "stream",
          "text": [
            "[5.37935067 0.         3.14159265]\n"
          ],
          "name": "stdout"
        }
      ]
    },
    {
      "cell_type": "code",
      "metadata": {
        "colab": {
          "base_uri": "https://localhost:8080/",
          "height": 295
        },
        "id": "f1K6AMDWi5WB",
        "outputId": "dbdc916b-b5d9-4770-ed62-4cf4d2dc6f50"
      },
      "source": [
        "plt.plot(result['history'])\n",
        "plt.xlabel('Epochs')\n",
        "plt.ylabel('Swap Error')\n",
        "plt.title('Training of parameters using Swap test')\n",
        "plt.show()"
      ],
      "execution_count": 16,
      "outputs": [
        {
          "output_type": "display_data",
          "data": {
            "image/png": "[encoded data removed]",
            "text/plain": [
              "<Figure size 432x288 with 1 Axes>"
            ]
          },
          "metadata": {
            "tags": [],
            "needs_background": "light"
          }
        }
      ]
    },
    {
      "cell_type": "code",
      "metadata": {
        "colab": {
          "base_uri": "https://localhost:8080/",
          "height": 152
        },
        "id": "jJk2QdRoP5Mu",
        "outputId": "5b195ea8-df9d-4317-9536-04342ec7d671"
      },
      "source": [
        "q = QuantumCircuit(3,1)\n",
        "q.u(tparams[0],tparams[1],tparams[2],1)\n",
        "q.u(params2[0],params2[1],params2[2],2)\n",
        "q.draw()"
      ],
      "execution_count": 17,
      "outputs": [
        {
          "output_type": "execute_result",
          "data": {
            "text/html": [
              "<pre style=\"word-wrap: normal;white-space: pre;background: #fff0;line-height: 1.1;font-family: &quot;Courier New&quot;,Courier,monospace\">                      \n",
              "q_0: ─────────────────\n",
              "     ┌───────────────┐\n",
              "q_1: ┤ U(5.3794,0,π) ├\n",
              "     ├───────────────┤\n",
              "q_2: ┤ U(5.4313,0,π) ├\n",
              "     └───────────────┘\n",
              "c: 1/═════════════════\n",
              "                      </pre>"
            ],
            "text/plain": [
              "                      \n",
              "q_0: ─────────────────\n",
              "     ┌───────────────┐\n",
              "q_1: ┤ U(5.3794,0,π) ├\n",
              "     ├───────────────┤\n",
              "q_2: ┤ U(5.4313,0,π) ├\n",
              "     └───────────────┘\n",
              "c: 1/═════════════════\n",
              "                      "
            ]
          },
          "metadata": {
            "tags": []
          },
          "execution_count": 17
        }
      ]
    },
    {
      "cell_type": "code",
      "metadata": {
        "colab": {
          "base_uri": "https://localhost:8080/",
          "height": 152
        },
        "id": "hwqqOvCZUTlL",
        "outputId": "7b19b9b1-2a50-4d9d-cf51-08ff19e69f33"
      },
      "source": [
        "swap_test(q)\n",
        "q.draw()"
      ],
      "execution_count": 18,
      "outputs": [
        {
          "output_type": "execute_result",
          "data": {
            "text/html": [
              "<pre style=\"word-wrap: normal;white-space: pre;background: #fff0;line-height: 1.1;font-family: &quot;Courier New&quot;,Courier,monospace\">     ┌─────────────────┐┌───┐   ┌───┐┌─┐\n",
              "q_0: ┤ initialize(1,0) ├┤ H ├─■─┤ H ├┤M├\n",
              "     └┬───────────────┬┘└───┘ │ └───┘└╥┘\n",
              "q_1: ─┤ U(5.3794,0,π) ├───────X───────╫─\n",
              "      ├───────────────┤       │       ║ \n",
              "q_2: ─┤ U(5.4313,0,π) ├───────X───────╫─\n",
              "      └───────────────┘               ║ \n",
              "c: 1/═════════════════════════════════╩═\n",
              "                                      0 </pre>"
            ],
            "text/plain": [
              "     ┌─────────────────┐┌───┐   ┌───┐┌─┐\n",
              "q_0: ┤ initialize(1,0) ├┤ H ├─■─┤ H ├┤M├\n",
              "     └┬───────────────┬┘└───┘ │ └───┘└╥┘\n",
              "q_1: ─┤ U(5.3794,0,π) ├───────X───────╫─\n",
              "      ├───────────────┤       │       ║ \n",
              "q_2: ─┤ U(5.4313,0,π) ├───────X───────╫─\n",
              "      └───────────────┘               ║ \n",
              "c: 1/═════════════════════════════════╩═\n",
              "                                      0 "
            ]
          },
          "metadata": {
            "tags": []
          },
          "execution_count": 18
        }
      ]
    },
    {
      "cell_type": "code",
      "metadata": {
        "id": "dNaw-uLHlWeu",
        "colab": {
          "base_uri": "https://localhost:8080/",
          "height": 323
        },
        "outputId": "e4b54225-71d9-4191-b828-7557814d0b90"
      },
      "source": [
        "from qiskit import execute, Aer, BasicAer\n",
        " \n",
        "backend = BasicAer.get_backend('qasm_simulator')\n",
        "results = execute(q, backend=backend, shots=shots).result()\n",
        "answer = results.get_counts()\n",
        "plot_histogram(answer)"
      ],
      "execution_count": 20,
      "outputs": [
        {
          "output_type": "execute_result",
          "data": {
            "image/png": "[encoded data removed]",
            "text/plain": [
              "<Figure size 504x360 with 1 Axes>"
            ]
          },
          "metadata": {
            "tags": []
          },
          "execution_count": 20
        }
      ]
    },
    {
      "cell_type": "code",
      "metadata": {
        "id": "3a9KS7Jyzukm"
      },
      "source": [
        "N = 3 #N qubit state\n",
        "n = 2*N + 1\n",
        "choice = [0,np.pi]"
      ],
      "execution_count": 23,
      "outputs": []
    },
    {
      "cell_type": "code",
      "metadata": {
        "colab": {
          "base_uri": "https://localhost:8080/",
          "height": 272
        },
        "id": "tp-KG6vF4Tqf",
        "outputId": "395f6250-b843-4a54-c0bc-f34e6dd49718"
      },
      "source": [
        "qc = QuantumCircuit(n,1)\n",
        "psi_params = []\n",
        "phi_params = []\n",
        "for i in range(1,N+1):\n",
        "  state = generate_state(theta = choice[np.random.randint(0,len(choice))])\n",
        "  qc.u(state[0],state[1],state[2],i)\n",
        "  phi_params.append(state)\n",
        "for i in range(N+1,n):\n",
        "  state = generate_state(theta = choice[np.random.randint(0,len(choice))])\n",
        "  psi_params.append(state)\n",
        "qc.draw()"
      ],
      "execution_count": 35,
      "outputs": [
        {
          "output_type": "execute_result",
          "data": {
            "text/html": [
              "<pre style=\"word-wrap: normal;white-space: pre;background: #fff0;line-height: 1.1;font-family: &quot;Courier New&quot;,Courier,monospace\">                 \n",
              "q_0: ────────────\n",
              "     ┌──────────┐\n",
              "q_1: ┤ U(π,0,π) ├\n",
              "     ├──────────┤\n",
              "q_2: ┤ U(0,0,π) ├\n",
              "     ├──────────┤\n",
              "q_3: ┤ U(0,0,π) ├\n",
              "     └──────────┘\n",
              "q_4: ────────────\n",
              "                 \n",
              "q_5: ────────────\n",
              "                 \n",
              "q_6: ────────────\n",
              "                 \n",
              "c: 1/════════════\n",
              "                 </pre>"
            ],
            "text/plain": [
              "                 \n",
              "q_0: ────────────\n",
              "     ┌──────────┐\n",
              "q_1: ┤ U(π,0,π) ├\n",
              "     ├──────────┤\n",
              "q_2: ┤ U(0,0,π) ├\n",
              "     ├──────────┤\n",
              "q_3: ┤ U(0,0,π) ├\n",
              "     └──────────┘\n",
              "q_4: ────────────\n",
              "                 \n",
              "q_5: ────────────\n",
              "                 \n",
              "q_6: ────────────\n",
              "                 \n",
              "c: 1/════════════\n",
              "                 "
            ]
          },
          "metadata": {
            "tags": []
          },
          "execution_count": 35
        }
      ]
    },
    {
      "cell_type": "code",
      "metadata": {
        "colab": {
          "base_uri": "https://localhost:8080/"
        },
        "id": "fm5SfRXC7xrB",
        "outputId": "a91c14a4-fb78-4f80-a519-f3d8c5b05356"
      },
      "source": [
        "print(psi_params)"
      ],
      "execution_count": 37,
      "outputs": [
        {
          "output_type": "stream",
          "text": [
            "[array([3.14159265, 0.        , 3.14159265]), array([3.14159265, 0.        , 3.14159265]), array([3.14159265, 0.        , 3.14159265])]\n"
          ],
          "name": "stdout"
        }
      ]
    },
    {
      "cell_type": "code",
      "metadata": {
        "colab": {
          "base_uri": "https://localhost:8080/",
          "height": 272
        },
        "id": "y2uiRhTd5Ey-",
        "outputId": "39eb4de7-e388-47d1-b9f6-0e50a0d80225"
      },
      "source": [
        "for i in range(N+1,n):\n",
        "  val = (swap_error(psi_params[i-N-1],phi_params[i-N-1]) == 0)\n",
        "  state = generate_state(theta = choice[val])\n",
        "  qc.u(state[0],state[1],state[2],i)\n",
        "\n",
        "qc.draw()"
      ],
      "execution_count": 38,
      "outputs": [
        {
          "output_type": "execute_result",
          "data": {
            "text/html": [
              "<pre style=\"word-wrap: normal;white-space: pre;background: #fff0;line-height: 1.1;font-family: &quot;Courier New&quot;,Courier,monospace\">                 \n",
              "q_0: ────────────\n",
              "     ┌──────────┐\n",
              "q_1: ┤ U(π,0,π) ├\n",
              "     ├──────────┤\n",
              "q_2: ┤ U(0,0,π) ├\n",
              "     ├──────────┤\n",
              "q_3: ┤ U(0,0,π) ├\n",
              "     ├──────────┤\n",
              "q_4: ┤ U(π,0,π) ├\n",
              "     ├──────────┤\n",
              "q_5: ┤ U(0,0,π) ├\n",
              "     ├──────────┤\n",
              "q_6: ┤ U(0,0,π) ├\n",
              "     └──────────┘\n",
              "c: 1/════════════\n",
              "                 </pre>"
            ],
            "text/plain": [
              "                 \n",
              "q_0: ────────────\n",
              "     ┌──────────┐\n",
              "q_1: ┤ U(π,0,π) ├\n",
              "     ├──────────┤\n",
              "q_2: ┤ U(0,0,π) ├\n",
              "     ├──────────┤\n",
              "q_3: ┤ U(0,0,π) ├\n",
              "     ├──────────┤\n",
              "q_4: ┤ U(π,0,π) ├\n",
              "     ├──────────┤\n",
              "q_5: ┤ U(0,0,π) ├\n",
              "     ├──────────┤\n",
              "q_6: ┤ U(0,0,π) ├\n",
              "     └──────────┘\n",
              "c: 1/════════════\n",
              "                 "
            ]
          },
          "metadata": {
            "tags": []
          },
          "execution_count": 38
        }
      ]
    },
    {
      "cell_type": "code",
      "metadata": {
        "colab": {
          "base_uri": "https://localhost:8080/",
          "height": 323
        },
        "id": "a2KdG1Sz9VHL",
        "outputId": "314b3347-ffcf-4c2b-bd06-6a9dc7786701"
      },
      "source": [
        "backend = BasicAer.get_backend('qasm_simulator')\n",
        "results = execute(q, backend=backend, shots=shots).result()\n",
        "answer = results.get_counts()\n",
        "plot_histogram(answer)"
      ],
      "execution_count": 39,
      "outputs": [
        {
          "output_type": "execute_result",
          "data": {
            "image/png": "[encoded data removed]",
            "text/plain": [
              "<Figure size 504x360 with 1 Axes>"
            ]
          },
          "metadata": {
            "tags": []
          },
          "execution_count": 39
        }
      ]
    }
  ]
}